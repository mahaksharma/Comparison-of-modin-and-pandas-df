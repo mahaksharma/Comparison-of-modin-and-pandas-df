{
 "cells": [
  {
   "cell_type": "markdown",
   "metadata": {},
   "source": [
    "\n",
    "Modin uses Ray to provide an effortless way to speed up your pandas notebooks, scripts, and libraries. Unlike other distributed DataFrame libraries, Modin provides seamless integration and compatibility with existing pandas code. Even using the DataFrame constructor is identical.\n",
    "Modin accelerates Pandas queries by 4x on an 8-core machine, only requiring users to change a single line of code in their notebooks.\n",
    "\n",
    "Link to the Modin Library : https://github.com/modin-project/modin\n",
    "\n",
    "For more information related to Modin refer to:https://modin.readthedocs.io/en/latest/"
   ]
  },
  {
   "cell_type": "code",
   "execution_count": 1,
   "metadata": {},
   "outputs": [
    {
     "name": "stdout",
     "output_type": "stream",
     "text": [
      "Requirement already satisfied: modin[ray] in /Users/mahaksharma/.conda/envs/tensorflow_cpu/lib/python3.6/site-packages (0.6.3)\n",
      "Requirement already satisfied: pandas==0.25.3 in /Users/mahaksharma/.conda/envs/tensorflow_cpu/lib/python3.6/site-packages (from modin[ray]) (0.25.3)\n",
      "Requirement already satisfied: ray==0.7.3; extra == \"ray\" in /Users/mahaksharma/.conda/envs/tensorflow_cpu/lib/python3.6/site-packages (from modin[ray]) (0.7.3)\n",
      "Requirement already satisfied: python-dateutil>=2.6.1 in /Users/mahaksharma/.conda/envs/tensorflow_cpu/lib/python3.6/site-packages (from pandas==0.25.3->modin[ray]) (2.8.1)\n",
      "Requirement already satisfied: numpy>=1.13.3 in /Users/mahaksharma/.conda/envs/tensorflow_cpu/lib/python3.6/site-packages (from pandas==0.25.3->modin[ray]) (1.17.4)\n",
      "Requirement already satisfied: pytz>=2017.2 in /Users/mahaksharma/.conda/envs/tensorflow_cpu/lib/python3.6/site-packages (from pandas==0.25.3->modin[ray]) (2019.3)\n",
      "Requirement already satisfied: funcsigs in /Users/mahaksharma/.conda/envs/tensorflow_cpu/lib/python3.6/site-packages (from ray==0.7.3; extra == \"ray\"->modin[ray]) (1.0.2)\n",
      "Requirement already satisfied: pytest in /Users/mahaksharma/.conda/envs/tensorflow_cpu/lib/python3.6/site-packages (from ray==0.7.3; extra == \"ray\"->modin[ray]) (5.3.2)\n",
      "Requirement already satisfied: six>=1.0.0 in /Users/mahaksharma/.conda/envs/tensorflow_cpu/lib/python3.6/site-packages (from ray==0.7.3; extra == \"ray\"->modin[ray]) (1.13.0)\n",
      "Requirement already satisfied: redis in /Users/mahaksharma/.conda/envs/tensorflow_cpu/lib/python3.6/site-packages (from ray==0.7.3; extra == \"ray\"->modin[ray]) (3.3.11)\n",
      "Requirement already satisfied: protobuf>=3.8.0 in /Users/mahaksharma/.conda/envs/tensorflow_cpu/lib/python3.6/site-packages (from ray==0.7.3; extra == \"ray\"->modin[ray]) (3.11.2)\n",
      "Requirement already satisfied: filelock in /Users/mahaksharma/.conda/envs/tensorflow_cpu/lib/python3.6/site-packages (from ray==0.7.3; extra == \"ray\"->modin[ray]) (3.0.12)\n",
      "Requirement already satisfied: colorama in /Users/mahaksharma/.conda/envs/tensorflow_cpu/lib/python3.6/site-packages (from ray==0.7.3; extra == \"ray\"->modin[ray]) (0.4.3)\n",
      "Requirement already satisfied: click in /Users/mahaksharma/.conda/envs/tensorflow_cpu/lib/python3.6/site-packages (from ray==0.7.3; extra == \"ray\"->modin[ray]) (7.0)\n",
      "Requirement already satisfied: pyyaml in /Users/mahaksharma/.conda/envs/tensorflow_cpu/lib/python3.6/site-packages (from ray==0.7.3; extra == \"ray\"->modin[ray]) (5.2)\n",
      "Requirement already satisfied: wcwidth in /Users/mahaksharma/.conda/envs/tensorflow_cpu/lib/python3.6/site-packages (from pytest->ray==0.7.3; extra == \"ray\"->modin[ray]) (0.1.7)\n",
      "Requirement already satisfied: importlib-metadata>=0.12; python_version < \"3.8\" in /Users/mahaksharma/.conda/envs/tensorflow_cpu/lib/python3.6/site-packages (from pytest->ray==0.7.3; extra == \"ray\"->modin[ray]) (1.1.0)\n",
      "Requirement already satisfied: attrs>=17.4.0 in /Users/mahaksharma/.conda/envs/tensorflow_cpu/lib/python3.6/site-packages (from pytest->ray==0.7.3; extra == \"ray\"->modin[ray]) (19.3.0)\n",
      "Requirement already satisfied: py>=1.5.0 in /Users/mahaksharma/.conda/envs/tensorflow_cpu/lib/python3.6/site-packages (from pytest->ray==0.7.3; extra == \"ray\"->modin[ray]) (1.8.1)\n",
      "Requirement already satisfied: more-itertools>=4.0.0 in /Users/mahaksharma/.conda/envs/tensorflow_cpu/lib/python3.6/site-packages (from pytest->ray==0.7.3; extra == \"ray\"->modin[ray]) (7.2.0)\n",
      "Requirement already satisfied: pluggy<1.0,>=0.12 in /Users/mahaksharma/.conda/envs/tensorflow_cpu/lib/python3.6/site-packages (from pytest->ray==0.7.3; extra == \"ray\"->modin[ray]) (0.13.1)\n",
      "Requirement already satisfied: packaging in /Users/mahaksharma/.conda/envs/tensorflow_cpu/lib/python3.6/site-packages (from pytest->ray==0.7.3; extra == \"ray\"->modin[ray]) (20.0)\n",
      "Requirement already satisfied: setuptools in /Users/mahaksharma/.conda/envs/tensorflow_cpu/lib/python3.6/site-packages (from protobuf>=3.8.0->ray==0.7.3; extra == \"ray\"->modin[ray]) (42.0.2.post20191203)\n",
      "Requirement already satisfied: zipp>=0.5 in /Users/mahaksharma/.conda/envs/tensorflow_cpu/lib/python3.6/site-packages (from importlib-metadata>=0.12; python_version < \"3.8\"->pytest->ray==0.7.3; extra == \"ray\"->modin[ray]) (0.6.0)\n",
      "Requirement already satisfied: pyparsing>=2.0.2 in /Users/mahaksharma/.conda/envs/tensorflow_cpu/lib/python3.6/site-packages (from packaging->pytest->ray==0.7.3; extra == \"ray\"->modin[ray]) (2.4.5)\n",
      "Requirement already up-to-date: ipykernel in /Users/mahaksharma/.conda/envs/tensorflow_cpu/lib/python3.6/site-packages (5.1.3)\n",
      "Requirement already satisfied, skipping upgrade: ipython>=5.0.0 in /Users/mahaksharma/.conda/envs/tensorflow_cpu/lib/python3.6/site-packages (from ipykernel) (7.10.1)\n",
      "Requirement already satisfied, skipping upgrade: jupyter-client in /Users/mahaksharma/.conda/envs/tensorflow_cpu/lib/python3.6/site-packages (from ipykernel) (5.3.4)\n",
      "Requirement already satisfied, skipping upgrade: traitlets>=4.1.0 in /Users/mahaksharma/.conda/envs/tensorflow_cpu/lib/python3.6/site-packages (from ipykernel) (4.3.3)\n",
      "Requirement already satisfied, skipping upgrade: tornado>=4.2 in /Users/mahaksharma/.conda/envs/tensorflow_cpu/lib/python3.6/site-packages (from ipykernel) (6.0.3)\n",
      "Requirement already satisfied, skipping upgrade: appnope; platform_system == \"Darwin\" in /Users/mahaksharma/.conda/envs/tensorflow_cpu/lib/python3.6/site-packages (from ipykernel) (0.1.0)\n",
      "Requirement already satisfied, skipping upgrade: pickleshare in /Users/mahaksharma/.conda/envs/tensorflow_cpu/lib/python3.6/site-packages (from ipython>=5.0.0->ipykernel) (0.7.5)\n",
      "Requirement already satisfied, skipping upgrade: jedi>=0.10 in /Users/mahaksharma/.conda/envs/tensorflow_cpu/lib/python3.6/site-packages (from ipython>=5.0.0->ipykernel) (0.15.1)\n",
      "Requirement already satisfied, skipping upgrade: pexpect; sys_platform != \"win32\" in /Users/mahaksharma/.conda/envs/tensorflow_cpu/lib/python3.6/site-packages (from ipython>=5.0.0->ipykernel) (4.7.0)\n",
      "Requirement already satisfied, skipping upgrade: pygments in /Users/mahaksharma/.conda/envs/tensorflow_cpu/lib/python3.6/site-packages (from ipython>=5.0.0->ipykernel) (2.5.2)\n",
      "Requirement already satisfied, skipping upgrade: setuptools>=18.5 in /Users/mahaksharma/.conda/envs/tensorflow_cpu/lib/python3.6/site-packages (from ipython>=5.0.0->ipykernel) (42.0.2.post20191203)\n",
      "Requirement already satisfied, skipping upgrade: backcall in /Users/mahaksharma/.conda/envs/tensorflow_cpu/lib/python3.6/site-packages (from ipython>=5.0.0->ipykernel) (0.1.0)\n",
      "Requirement already satisfied, skipping upgrade: prompt-toolkit!=3.0.0,!=3.0.1,<3.1.0,>=2.0.0 in /Users/mahaksharma/.conda/envs/tensorflow_cpu/lib/python3.6/site-packages (from ipython>=5.0.0->ipykernel) (3.0.2)\n",
      "Requirement already satisfied, skipping upgrade: decorator in /Users/mahaksharma/.conda/envs/tensorflow_cpu/lib/python3.6/site-packages (from ipython>=5.0.0->ipykernel) (4.4.1)\n",
      "Requirement already satisfied, skipping upgrade: pyzmq>=13 in /Users/mahaksharma/.conda/envs/tensorflow_cpu/lib/python3.6/site-packages (from jupyter-client->ipykernel) (18.1.0)\n",
      "Requirement already satisfied, skipping upgrade: jupyter-core>=4.6.0 in /Users/mahaksharma/.conda/envs/tensorflow_cpu/lib/python3.6/site-packages (from jupyter-client->ipykernel) (4.6.1)\n",
      "Requirement already satisfied, skipping upgrade: python-dateutil>=2.1 in /Users/mahaksharma/.conda/envs/tensorflow_cpu/lib/python3.6/site-packages (from jupyter-client->ipykernel) (2.8.1)\n",
      "Requirement already satisfied, skipping upgrade: six in /Users/mahaksharma/.conda/envs/tensorflow_cpu/lib/python3.6/site-packages (from traitlets>=4.1.0->ipykernel) (1.13.0)\n",
      "Requirement already satisfied, skipping upgrade: ipython-genutils in /Users/mahaksharma/.conda/envs/tensorflow_cpu/lib/python3.6/site-packages (from traitlets>=4.1.0->ipykernel) (0.2.0)\n",
      "Requirement already satisfied, skipping upgrade: parso>=0.5.0 in /Users/mahaksharma/.conda/envs/tensorflow_cpu/lib/python3.6/site-packages (from jedi>=0.10->ipython>=5.0.0->ipykernel) (0.5.1)\n",
      "Requirement already satisfied, skipping upgrade: ptyprocess>=0.5 in /Users/mahaksharma/.conda/envs/tensorflow_cpu/lib/python3.6/site-packages (from pexpect; sys_platform != \"win32\"->ipython>=5.0.0->ipykernel) (0.6.0)\n",
      "Requirement already satisfied, skipping upgrade: wcwidth in /Users/mahaksharma/.conda/envs/tensorflow_cpu/lib/python3.6/site-packages (from prompt-toolkit!=3.0.0,!=3.0.1,<3.1.0,>=2.0.0->ipython>=5.0.0->ipykernel) (0.1.7)\n"
     ]
    }
   ],
   "source": [
    "# !pip install modin[dask]\n",
    "!pip install modin[ray]\n",
    "!pip install -U ipykernel\n",
    "\n"
   ]
  },
  {
   "cell_type": "code",
   "execution_count": 2,
   "metadata": {},
   "outputs": [
    {
     "name": "stdout",
     "output_type": "stream",
     "text": [
      "WARNING: Not monitoring node memory since `psutil` is not installed. Install this with `pip install psutil` (or ray[debug]) to enable debugging of memory-related crashes.\n"
     ]
    }
   ],
   "source": [
    "import time#creates a time comparison report for modin and pandas\n",
    "import numpy as np\n",
    "import pandas as pd\n",
    "import modin.pandas as md"
   ]
  },
  {
   "cell_type": "markdown",
   "metadata": {},
   "source": [
    "# Exploring with dataset\n",
    "You can try on any dataset .I used the kaggle Titanic: Machine Learning from Disaster.Just for hands on purpose\n",
    "Refer the link :https://www.kaggle.com/c/titanic/data"
   ]
  },
  {
   "cell_type": "code",
   "execution_count": 3,
   "metadata": {},
   "outputs": [
    {
     "name": "stdout",
     "output_type": "stream",
     "text": [
      "Pandas Loading Time = 0.013953685760498047\n"
     ]
    }
   ],
   "source": [
    "s = time.time()\n",
    "df_pandas = pd.read_csv(\"/Users/mahaksharma/Desktop/cnn mnist/traintitanic.csv\")\n",
    "e = time.time()\n",
    "print(\"Pandas Loading Time = {}\".format(e-s))"
   ]
  },
  {
   "cell_type": "code",
   "execution_count": 4,
   "metadata": {},
   "outputs": [
    {
     "name": "stdout",
     "output_type": "stream",
     "text": [
      "Modin Loading Time = 2.0292909145355225\n"
     ]
    }
   ],
   "source": [
    "s = time.time()\n",
    "df_modin = md.read_csv(\"/Users/mahaksharma/Desktop/cnn mnist/traintitanic.csv\")\n",
    "e = time.time()\n",
    "print(\"Modin Loading Time = {}\".format(e-s))"
   ]
  },
  {
   "cell_type": "markdown",
   "metadata": {},
   "source": [
    "Here based on filesize of titanic data, pandas takes a lesser amount of time to load data file into data frame..Now let's check if concat operation follows the same pattern or not"
   ]
  },
  {
   "cell_type": "markdown",
   "metadata": {},
   "source": [
    "# Concat time Comparison"
   ]
  },
  {
   "cell_type": "code",
   "execution_count": 5,
   "metadata": {},
   "outputs": [
    {
     "name": "stdout",
     "output_type": "stream",
     "text": [
      "Pandas Concat Time = 0.018807172775268555\n"
     ]
    }
   ],
   "source": [
    "s = time.time()\n",
    "df_pandas_concat = pd.concat([df_pandas for _ in range(5)])\n",
    "e = time.time()\n",
    "print(\"Pandas Concat Time = {}\".format(e-s))"
   ]
  },
  {
   "cell_type": "code",
   "execution_count": 6,
   "metadata": {},
   "outputs": [
    {
     "name": "stdout",
     "output_type": "stream",
     "text": [
      "Modin Concat Time = 0.0017778873443603516\n"
     ]
    }
   ],
   "source": [
    "s = time.time()\n",
    "df_modin_concat = md.concat([df_modin for _ in range(5)])\n",
    "e = time.time()\n",
    "print(\"Modin Concat Time = {}\".format(e-s))"
   ]
  },
  {
   "cell_type": "markdown",
   "metadata": {},
   "source": [
    "Modin concat time is much lesser than Pandas concat time"
   ]
  },
  {
   "cell_type": "markdown",
   "metadata": {},
   "source": [
    "# Null Check Comparision"
   ]
  },
  {
   "cell_type": "code",
   "execution_count": 7,
   "metadata": {},
   "outputs": [
    {
     "name": "stdout",
     "output_type": "stream",
     "text": [
      "Pandas Null Time Check = 0.004945993423461914\n"
     ]
    }
   ],
   "source": [
    "s = time.time()\n",
    "t_pandas = df_pandas_concat.isnull()\n",
    "e = time.time()\n",
    "print(\"Pandas Null Time Check = {}\".format(e-s))"
   ]
  },
  {
   "cell_type": "code",
   "execution_count": 8,
   "metadata": {},
   "outputs": [
    {
     "name": "stdout",
     "output_type": "stream",
     "text": [
      "Modin Null Time Check = 0.04468894004821777\n"
     ]
    }
   ],
   "source": [
    "s = time.time()\n",
    "t_modin = df_modin_concat.isnull()\n",
    "e = time.time()\n",
    "print(\"Modin Null Time Check = {}\".format(e-s))"
   ]
  },
  {
   "cell_type": "markdown",
   "metadata": {},
   "source": [
    "# Max Value Comparision"
   ]
  },
  {
   "cell_type": "code",
   "execution_count": 9,
   "metadata": {},
   "outputs": [
    {
     "name": "stdout",
     "output_type": "stream",
     "text": [
      "Max value in Pandas Dataframe = 512.3292\n",
      "Pandas Count Time = 0.0009369850158691406\n"
     ]
    }
   ],
   "source": [
    "s = time.time()\n",
    "max_pandas = df_pandas_concat[\"Fare\"].max()\n",
    "e = time.time()\n",
    "print (\"Max value in Pandas Dataframe = {}\".format(max_pandas))\n",
    "print(\"Pandas Count Time = {}\".format(e-s))"
   ]
  },
  {
   "cell_type": "code",
   "execution_count": 10,
   "metadata": {},
   "outputs": [
    {
     "name": "stdout",
     "output_type": "stream",
     "text": [
      "Max value in Modin Dataframe = 512.3292\n",
      "Modin Count Time = 0.905484676361084\n"
     ]
    }
   ],
   "source": [
    "s = time.time()\n",
    "max_modin = df_modin_concat[\"Fare\"].max()\n",
    "e = time.time()\n",
    "print (\"Max value in Modin Dataframe = {}\".format(max_modin))\n",
    "print(\"Modin Count Time = {}\".format(e-s))"
   ]
  },
  {
   "cell_type": "markdown",
   "metadata": {},
   "source": [
    "Summmary: Why dont we use Modin instead of Pandas in our Workflow?\n",
    "The reason is all mathematical operations performmed using Modin are not as fast as compared with Pandas df.Here max value of fare was founded quicky using Pandas df as compared to a Modin df"
   ]
  },
  {
   "cell_type": "markdown",
   "metadata": {},
   "source": [
    "# If you found this notebook helpful or you just liked it , some upvotes would be very much appreciated - That will keep me motivated to update it on a regular basis :-)"
   ]
  },
  {
   "cell_type": "code",
   "execution_count": null,
   "metadata": {},
   "outputs": [],
   "source": []
  }
 ],
 "metadata": {
  "kernelspec": {
   "display_name": "Python 3",
   "language": "python",
   "name": "python3"
  },
  "language_info": {
   "codemirror_mode": {
    "name": "ipython",
    "version": 3
   },
   "file_extension": ".py",
   "mimetype": "text/x-python",
   "name": "python",
   "nbconvert_exporter": "python",
   "pygments_lexer": "ipython3",
   "version": "3.6.9"
  }
 },
 "nbformat": 4,
 "nbformat_minor": 2
}
